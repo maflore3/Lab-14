{
  "nbformat": 4,
  "nbformat_minor": 0,
  "metadata": {
    "colab": {
      "provenance": []
    },
    "kernelspec": {
      "name": "python3",
      "display_name": "Python 3"
    },
    "language_info": {
      "name": "python"
    }
  },
  "cells": [
    {
      "cell_type": "markdown",
      "source": [
        "Lab Report 14"
      ],
      "metadata": {
        "id": "Z012xq_IPkWx"
      }
    },
    {
      "cell_type": "markdown",
      "source": [
        "Purpose: Compare male vs female VC and FEM1."
      ],
      "metadata": {
        "id": "AezJnYhEPuKG"
      }
    },
    {
      "cell_type": "markdown",
      "source": [
        "Procedure:A spirometer coupled with a kymograph is capable of measuring and recording several human lung capacities. Today, plugged into a computer’s USB port, a digital pneumotach can be used to measure lung volumes. This is what we will use in the first two sections of Lab 14. The record obtained from spirometry may be analyzed to determine the\n",
        "relative pulmonary condition of humans.\n",
        "\n",
        "Calculate your predicted vital capacity from the nomograms available in lab. Using a straightedge, make a line matching your height and age to the vital capacity prediction. Note that the VC is in liters whereas other m\n",
        "easurements have been taken in milliliters. Compare the values obtained from the portable spirometer, the predicted values from the nomograms, and the value obtained from the Koko spirometer, if available"
      ],
      "metadata": {
        "id": "ZTLV_hxBRvfD"
      }
    },
    {
      "cell_type": "code",
      "execution_count": 1,
      "metadata": {
        "id": "hrEFbE_wKT_8"
      },
      "outputs": [],
      "source": [
        "# import packages\n",
        "import statistics\n",
        "import pandas as pd\n",
        "import scipy.stats as stats\n",
        "from scipy.stats import sem\n",
        "from statistics import mean, stdev\n",
        "import matplotlib.pyplot as plt\n",
        "import numpy as np\n",
        "#include if using a jupyter notebook, remove if using a .py file\n",
        "%matplotlib inline"
      ]
    },
    {
      "cell_type": "code",
      "source": [
        "fvc=[2.7, 3.7, 3.2, 3.45, 3.2, 3.1]\n",
        "mvc=[3.3, 4.5, 3.7]"
      ],
      "metadata": {
        "id": "Oeo_HkEELqDS"
      },
      "execution_count": 6,
      "outputs": []
    },
    {
      "cell_type": "code",
      "source": [
        "fvc"
      ],
      "metadata": {
        "colab": {
          "base_uri": "https://localhost:8080/"
        },
        "id": "gdyQvkx0MxXS",
        "outputId": "def3d8a1-0bce-45c4-e59d-22659d0cbef6"
      },
      "execution_count": 7,
      "outputs": [
        {
          "output_type": "execute_result",
          "data": {
            "text/plain": [
              "[2.7, 3.7, 3.2, 3.45, 3.2, 3.1]"
            ]
          },
          "metadata": {},
          "execution_count": 7
        }
      ]
    },
    {
      "cell_type": "code",
      "source": [
        "mvc"
      ],
      "metadata": {
        "colab": {
          "base_uri": "https://localhost:8080/"
        },
        "id": "MZ4Yssf9Mzbu",
        "outputId": "91f7743b-b4f3-499b-a015-5ac6092bb599"
      },
      "execution_count": 8,
      "outputs": [
        {
          "output_type": "execute_result",
          "data": {
            "text/plain": [
              "[3.3, 4.5, 3.7]"
            ]
          },
          "metadata": {},
          "execution_count": 8
        }
      ]
    },
    {
      "cell_type": "code",
      "source": [
        "#Calculate the means of data\n",
        "fvc_mean=mean(fvc)\n",
        "mvc_mean=mean(mvc)\n",
        "\n",
        "#Display the means\n",
        "fvc_mean, mvc_mean"
      ],
      "metadata": {
        "colab": {
          "base_uri": "https://localhost:8080/"
        },
        "id": "k3yBQGV5M2VE",
        "outputId": "587fc6d2-45b3-4f06-9f7c-426ff4425818"
      },
      "execution_count": 12,
      "outputs": [
        {
          "output_type": "execute_result",
          "data": {
            "text/plain": [
              "(3.225, 3.8333333333333335)"
            ]
          },
          "metadata": {},
          "execution_count": 12
        }
      ]
    },
    {
      "cell_type": "code",
      "source": [
        "#Calculate the SEM of data\n",
        "fvc_sem=sem(fvc)\n",
        "mvc_sem=sem(mvc)\n",
        "\n",
        "#Display the SEM\n",
        "fvc_sem, mvc_sem"
      ],
      "metadata": {
        "colab": {
          "base_uri": "https://localhost:8080/"
        },
        "id": "JSWB_9KENwi9",
        "outputId": "7e65dc18-f9b7-40ef-f648-cfe548b6f03e"
      },
      "execution_count": 13,
      "outputs": [
        {
          "output_type": "execute_result",
          "data": {
            "text/plain": [
              "(0.13768926368215256, 0.3527668414752788)"
            ]
          },
          "metadata": {},
          "execution_count": 13
        }
      ]
    },
    {
      "cell_type": "code",
      "source": [
        "# build a bar plot\n",
        "plt.bar(['Female VC', 'Male VC'],[fvc_mean, mvc_mean], yerr=[fvc_sem, mvc_sem], capsize=10)"
      ],
      "metadata": {
        "colab": {
          "base_uri": "https://localhost:8080/",
          "height": 447
        },
        "id": "Nrn1VZI1PMiy",
        "outputId": "906f9b46-c37e-4df8-f20c-a3bd123ce6c3"
      },
      "execution_count": 19,
      "outputs": [
        {
          "output_type": "execute_result",
          "data": {
            "text/plain": [
              "<BarContainer object of 2 artists>"
            ]
          },
          "metadata": {},
          "execution_count": 19
        },
        {
          "output_type": "display_data",
          "data": {
            "text/plain": [
              "<Figure size 640x480 with 1 Axes>"
            ],
            "image/png": "[encoded data removed]"
          },
          "metadata": {}
        }
      ]
    },
    {
      "cell_type": "code",
      "source": [
        "plt.bar(['Female', 'Male'],[fvc_mean, mvc_mean], yerr=[fvc_sem, mvc_sem], capsize=10)\n",
        "plt.xlabel ('Biological Sex')\n",
        "plt.ylabel ('Vital Capacity (L)')\n",
        "plt.title ('Vital Capacity Differences in Male vs Female')"
      ],
      "metadata": {
        "colab": {
          "base_uri": "https://localhost:8080/",
          "height": 489
        },
        "id": "xnE1HHc2QmHe",
        "outputId": "32ba54ae-e89f-44a7-9bbc-d75937502c6f"
      },
      "execution_count": 24,
      "outputs": [
        {
          "output_type": "execute_result",
          "data": {
            "text/plain": [
              "Text(0.5, 1.0, 'Vital Capacity Differences in Male vs Female')"
            ]
          },
          "metadata": {},
          "execution_count": 24
        },
        {
          "output_type": "display_data",
          "data": {
            "text/plain": [
              "<Figure size 640x480 with 1 Axes>"
            ],
            "image/png": "[encoded data removed]"
          },
          "metadata": {}
        }
      ]
    },
    {
      "cell_type": "code",
      "source": [
        "# import packages\n",
        "import statistics\n",
        "import pandas as pd\n",
        "import scipy.stats as stats\n",
        "from scipy.stats import sem\n",
        "from statistics import mean, stdev\n",
        "import matplotlib.pyplot as plt\n",
        "import numpy as np\n",
        "#include if using a jupyter notebook, remove if using a .py file\n",
        "%matplotlib inline"
      ],
      "metadata": {
        "id": "tkR3w-l2T-4z"
      },
      "execution_count": 25,
      "outputs": []
    },
    {
      "cell_type": "code",
      "source": [
        "fFEV1=[2.37, 3.37, 2.6,2.69, 3.13, 2.44]\n",
        "mFEV1=[3.3, 4.86, 3.7]"
      ],
      "metadata": {
        "id": "ZfGK3LPZUw4c"
      },
      "execution_count": 26,
      "outputs": []
    },
    {
      "cell_type": "code",
      "source": [
        "#Calculate the means of data\n",
        "fFEV1_mean=mean(fFEV1)\n",
        "mFEV1_mean=mean(mFEV1)\n",
        "\n",
        "#Display the means\n",
        "fFEV1_mean, mFEV1_mean"
      ],
      "metadata": {
        "colab": {
          "base_uri": "https://localhost:8080/"
        },
        "id": "985jhVUAVf1_",
        "outputId": "7d795d9e-d31b-414d-add9-b5a226830e82"
      },
      "execution_count": 27,
      "outputs": [
        {
          "output_type": "execute_result",
          "data": {
            "text/plain": [
              "(2.7666666666666666, 3.9533333333333336)"
            ]
          },
          "metadata": {},
          "execution_count": 27
        }
      ]
    },
    {
      "cell_type": "code",
      "source": [
        "#Calculate the SEM of data\n",
        "fFEV1_sem=sem(fFEV1)\n",
        "mFEV1_sem=sem(mFEV1)\n",
        "\n",
        "#Display the SEM\n",
        "fFEV1_sem, mFEV1_sem"
      ],
      "metadata": {
        "colab": {
          "base_uri": "https://localhost:8080/"
        },
        "id": "G6IuRYZUV0FV",
        "outputId": "11a4a012-0ad0-45a6-a73a-78b72646ef9d"
      },
      "execution_count": 28,
      "outputs": [
        {
          "output_type": "execute_result",
          "data": {
            "text/plain": [
              "(0.16265846973882972, 0.4678081278093024)"
            ]
          },
          "metadata": {},
          "execution_count": 28
        }
      ]
    },
    {
      "cell_type": "code",
      "source": [
        "# build a bar plot\n",
        "plt.bar(['Female FEV1', 'Male FEV1'],[fFEV1_mean, mFEV1_mean], yerr=[fFEV1_sem, mFEV1_sem], capsize=10)"
      ],
      "metadata": {
        "colab": {
          "base_uri": "https://localhost:8080/",
          "height": 447
        },
        "id": "OR-XOMm-WFHA",
        "outputId": "0f146c4a-ea2b-4591-e8e3-5f64af1fadac"
      },
      "execution_count": 29,
      "outputs": [
        {
          "output_type": "execute_result",
          "data": {
            "text/plain": [
              "<BarContainer object of 2 artists>"
            ]
          },
          "metadata": {},
          "execution_count": 29
        },
        {
          "output_type": "display_data",
          "data": {
            "text/plain": [
              "<Figure size 640x480 with 1 Axes>"
            ],
            "image/png": "[encoded data removed]"
          },
          "metadata": {}
        }
      ]
    },
    {
      "cell_type": "code",
      "source": [
        "plt.bar(['Female', 'Male'],[fFEV1_mean, mFEV1_mean], yerr=[fFEV1_sem, mFEV1_sem], capsize=10)\n",
        "plt.xlabel ('Biological Sex')\n",
        "plt.ylabel ('Forced Expiratory Volume (L)')\n",
        "plt.title ('Forced Expiratory Volume Differences in Male vs Female')"
      ],
      "metadata": {
        "colab": {
          "base_uri": "https://localhost:8080/",
          "height": 489
        },
        "id": "CeFHB7CEWUF7",
        "outputId": "b8a38f62-901a-42d1-ee2f-adde26448f19"
      },
      "execution_count": 30,
      "outputs": [
        {
          "output_type": "execute_result",
          "data": {
            "text/plain": [
              "Text(0.5, 1.0, 'Forced Expiratory Volume Differences in Male vs Female')"
            ]
          },
          "metadata": {},
          "execution_count": 30
        },
        {
          "output_type": "display_data",
          "data": {
            "text/plain": [
              "<Figure size 640x480 with 1 Axes>"
            ],
            "image/png": "[encoded data removed]"
          },
          "metadata": {}
        }
      ]
    },
    {
      "cell_type": "markdown",
      "source": [
        "Disussion: Will biological sex impact the difference in vital capacity just as much as forced expiratory volume. Who will have a higher mean."
      ],
      "metadata": {
        "id": "jhqTPEvyYuzD"
      }
    },
    {
      "cell_type": "markdown",
      "source": [
        "Conclusion: Even though there were only 3 male participants, they were still able to have a greater VC and FEV1."
      ],
      "metadata": {
        "id": "HKLUjfNcZsGA"
      }
    }
  ]
}